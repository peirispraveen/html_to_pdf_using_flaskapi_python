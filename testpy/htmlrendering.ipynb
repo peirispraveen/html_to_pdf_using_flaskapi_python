{
 "cells": [
  {
   "cell_type": "code",
   "execution_count": 29,
   "id": "initial_id",
   "metadata": {
    "collapsed": true,
    "ExecuteTime": {
     "end_time": "2024-10-04T09:36:42.480294Z",
     "start_time": "2024-10-04T09:36:42.467721Z"
    }
   },
   "outputs": [],
   "source": [
    "# Create a template file as report_template.html\n",
    "from jinja2 import Environment, FileSystemLoader"
   ]
  },
  {
   "cell_type": "code",
   "outputs": [],
   "source": [
    "# Create a template Environment\n",
    "env = Environment(loader=FileSystemLoader('templates'))"
   ],
   "metadata": {
    "collapsed": false,
    "ExecuteTime": {
     "end_time": "2024-10-04T09:36:42.667332Z",
     "start_time": "2024-10-04T09:36:42.657253Z"
    }
   },
   "id": "8c981e8ff5a3fc1f",
   "execution_count": 30
  },
  {
   "cell_type": "code",
   "outputs": [],
   "source": [
    "# Load the template from the Environment\n",
    "template = env.get_template('CUformat.html')"
   ],
   "metadata": {
    "collapsed": false,
    "ExecuteTime": {
     "end_time": "2024-10-04T09:36:42.856346Z",
     "start_time": "2024-10-04T09:36:42.841795Z"
    }
   },
   "id": "63426c0b91bd4189",
   "execution_count": 31
  },
  {
   "cell_type": "code",
   "outputs": [],
   "source": [
    "# Render the template with variables\n",
    "\n",
    "html = template.render(\n",
    "        main_title = \"KUDUGALAYAYA KARAWILA BADALKUMBURA - TEMPORAL ANALYSIS 2020-2023\",\n",
    "\n",
    "        year1 = \"2020\",\n",
    "        year2 = \"2021\",\n",
    "        year3 = \"2022\",\n",
    "        year4 = \"2023\",\n",
    "\n",
    "        sat_img1 = \"https://storage.googleapis.com/corpeng-pulse-assets/uploads/2022/11/2image5-1536x783.jpg\",\n",
    "        sat_img2 = \"https://storage.googleapis.com/corpeng-pulse-assets/uploads/2022/11/2image2-1536x719.jpg\",\n",
    "        sat_img3 = \"imgs/Picture1.png\",\n",
    "        sat_img4 = \"imgs/Picture1.png\",\n",
    "\n",
    "        def_risk1 = \"Deforestation risk is low (farm unit does not overlap forested areas with tree cover loss)\",\n",
    "        def_risk2 = \"Deforestation risk is low (farm unit does not overlap forested areas with tree cover loss)\",\n",
    "        def_risk3 = \"Deforestation risk is low (farm unit does not overlap forested areas with tree cover loss)\",\n",
    "        def_risk4 = \"Deforestation risk is low (farm unit does not overlap forested areas with tree cover loss)\",\n",
    "\n",
    "        enc_risk1 = \"Encroachment risk is low (Land is not encroaching with a protected area)\",\n",
    "        enc_risk2 = \"Encroachment risk is low (Land is not encroaching with a protected area)\",\n",
    "        enc_risk3 = \"Encroachment risk is low (Land is not encroaching with a protected area)\",\n",
    "        enc_risk4 = \"Encroachment risk is low (Land is not encroaching with a protected area)\",\n",
    "\n",
    "        total_area = \"0.12 ha\",\n",
    "        int_potec = \"0.00 ha\",\n",
    "\n",
    "        int_def_area = \"0.00 ha\",\n",
    "        eligible_area = \"0.12 ha\",\n",
    "\n",
    "        scale_meters = \"20M\"\n",
    ")"
   ],
   "metadata": {
    "collapsed": false,
    "ExecuteTime": {
     "end_time": "2024-10-04T09:36:43.183212Z",
     "start_time": "2024-10-04T09:36:43.163759Z"
    }
   },
   "id": "5ceb8c952d0fd7b7",
   "execution_count": 32
  },
  {
   "cell_type": "code",
   "outputs": [],
   "source": [
    "# Write the template to an HTML file\n",
    "with open('CU_report_jinja.html', 'w', encoding='utf-8') as f:\n",
    "    f.write(html)"
   ],
   "metadata": {
    "collapsed": false,
    "ExecuteTime": {
     "end_time": "2024-10-04T09:36:43.463398Z",
     "start_time": "2024-10-04T09:36:43.448881Z"
    }
   },
   "id": "b53b3d496f1a6c3",
   "execution_count": 33
  },
  {
   "cell_type": "code",
   "outputs": [],
   "source": [
    "import pdfkit\n",
    "config = pdfkit.configuration(wkhtmltopdf=\"C:/Program Files/wkhtmltopdf/bin/wkhtmltopdf.exe\")\n",
    "options = {\n",
    "        'page-size': 'A4',\n",
    "        'orientation': 'Landscape',\n",
    "        'enable-local-file-access': True,  # Allow local file access\n",
    "        'margin-top': '10mm',\n",
    "        'margin-right': '10mm',\n",
    "        'margin-bottom': '10mm',\n",
    "        'margin-left': '10mm'\n",
    "}"
   ],
   "metadata": {
    "collapsed": false,
    "ExecuteTime": {
     "end_time": "2024-10-04T09:36:43.759109Z",
     "start_time": "2024-10-04T09:36:43.740944Z"
    }
   },
   "id": "cf9d35f47bfe3009",
   "execution_count": 34
  },
  {
   "cell_type": "code",
   "outputs": [
    {
     "name": "stdout",
     "output_type": "stream",
     "text": [
      "wkhtmltopdf reported an error:\n",
      "QPainter::begin(): Returned false\r\n",
      "Exit with code 1 due to network error: ProtocolUnknownError\r\n"
     ]
    }
   ],
   "source": [
    "# 5. Generate PDF using pdfkit and external CSS\n",
    "try:\n",
    "        pdfkit.from_file('CU_report_jinja.html', 'CU_report.pdf', css='templates/styles.css', configuration=config)\n",
    "except Exception as e:\n",
    "        print(e)"
   ],
   "metadata": {
    "collapsed": false,
    "ExecuteTime": {
     "end_time": "2024-10-04T09:36:45.189144Z",
     "start_time": "2024-10-04T09:36:44.279420Z"
    }
   },
   "id": "abf352be952fda9c",
   "execution_count": 35
  },
  {
   "cell_type": "code",
   "outputs": [],
   "source": [],
   "metadata": {
    "collapsed": false
   },
   "id": "9e39701a0aa6801e"
  }
 ],
 "metadata": {
  "kernelspec": {
   "display_name": "Python 3",
   "language": "python",
   "name": "python3"
  },
  "language_info": {
   "codemirror_mode": {
    "name": "ipython",
    "version": 2
   },
   "file_extension": ".py",
   "mimetype": "text/x-python",
   "name": "python",
   "nbconvert_exporter": "python",
   "pygments_lexer": "ipython2",
   "version": "2.7.6"
  }
 },
 "nbformat": 4,
 "nbformat_minor": 5
}
