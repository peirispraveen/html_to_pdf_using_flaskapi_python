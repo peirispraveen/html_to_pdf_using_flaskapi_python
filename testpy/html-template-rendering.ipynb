{
 "cells": [
  {
   "cell_type": "markdown",
   "source": [
    "# HTML"
   ],
   "metadata": {
    "collapsed": false
   },
   "id": "d4399fa687cd334b"
  },
  {
   "cell_type": "code",
   "execution_count": 1,
   "id": "initial_id",
   "metadata": {
    "collapsed": true,
    "ExecuteTime": {
     "end_time": "2024-10-04T04:45:23.777379Z",
     "start_time": "2024-10-04T04:45:23.762295Z"
    }
   },
   "outputs": [],
   "source": [
    "# 1. Set up multiple variables to store the titles, text within the report\n",
    "title = \"Control Union Report\"\n",
    "message = {\n",
    "        \"greeting\": \"Hi Jane\",\n",
    "        \"content_1\": \"Your web redesign is finished and we're tracking results through this web analytics report. Early signs are good and everything seems to be on pace.\",\n",
    "        \"content_2\": \"We're also going to be launching a few new landing pages next month. These will be used for SEO and PPC purposes.\"\n",
    "}\n",
    "images = {\n",
    "        \"image1\": \"https://storage.googleapis.com/corpeng-pulse-assets/uploads/2022/11/2image5-1536x783.jpg\",\n",
    "        \"image2\": \"https://storage.googleapis.com/corpeng-pulse-assets/uploads/2022/11/2image2-1536x719.jpg\"\n",
    "}\n",
    "stats = {\n",
    "        \"sessions\": \"10,487\",\n",
    "        \"avg_session_duration\": \"00:00:26\",\n",
    "        \"new_sessions\": \"13.09%\",\n",
    "        \"bounce_rate\": \"35.00%\",\n",
    "        \"goal_completions\": \"3,145\",\n",
    "        \"pages_per_session\": \"3.49\"\n",
    "}\n",
    "\n",
    "\n",
    "# 2. Combine them together using a long f-string\n",
    "html = f'''\n",
    "    <html>\n",
    "        <head>\n",
    "            <title>{{ title }}</title>\n",
    "        </head>\n",
    "        <body>\n",
    "            <div class=\"container\">\n",
    "                <header>\n",
    "                    <h1>{{ title }}</h1>\n",
    "                </header>\n",
    "        \n",
    "                <section class=\"message\">\n",
    "                    <p>{{ message.greeting }}</p>\n",
    "                    <p>{{ message.content_1 }}</p>\n",
    "                </section>\n",
    "        \n",
    "                <section class=\"images\">\n",
    "                    <div class=\"image-box\">\n",
    "                        <img src=\"{{ images.image1 }}\" alt=\"Image 1 Placeholder\">\n",
    "                    </div>\n",
    "                    <div class=\"image-box\">\n",
    "                        <img src=\"{{ images.image2 }}\" alt=\"Image 2 Placeholder\">\n",
    "                    </div>\n",
    "                </section>\n",
    "        \n",
    "                <section class=\"stats\">\n",
    "                    <div class=\"stat-box\">\n",
    "                        <p>{{ stats.sessions }}</p>\n",
    "                        <span>Sessions</span>\n",
    "                    </div>\n",
    "                    <div class=\"stat-box\">\n",
    "                        <p>{{ stats.avg_session_duration }}</p>\n",
    "                        <span>Avg. Session Duration</span>\n",
    "                    </div>\n",
    "                    <div class=\"stat-box\">\n",
    "                        <p>{{ stats.new_sessions }}</p>\n",
    "                        <span>% New Sessions</span>\n",
    "                    </div>\n",
    "                    <div class=\"stat-box\">\n",
    "                        <p>{{ stats.bounce_rate }}</p>\n",
    "                        <span>Bounce Rate</span>\n",
    "                    </div>\n",
    "                    <div class=\"stat-box\">\n",
    "                        <p>{{ stats.goal_completions }}</p>\n",
    "                        <span>Goal Completions</span>\n",
    "                    </div>\n",
    "                    <div class=\"stat-box\">\n",
    "                        <p>{{ stats.pages_per_session }}</p>\n",
    "                        <span>Pages/Session</span>\n",
    "                    </div>\n",
    "                </section>\n",
    "            </div>\n",
    "        </body>\n",
    "    </html>\n",
    "    '''"
   ]
  },
  {
   "cell_type": "code",
   "outputs": [],
   "source": [
    "# 3. Write the html string as an HTML file\n",
    "with open('html_report.html', 'w') as f:\n",
    "    f.write(html)"
   ],
   "metadata": {
    "collapsed": false,
    "ExecuteTime": {
     "end_time": "2024-10-04T04:45:25.869739Z",
     "start_time": "2024-10-04T04:45:25.860181Z"
    }
   },
   "id": "20812aece5e97b57",
   "execution_count": 2
  },
  {
   "cell_type": "markdown",
   "source": [
    "# HTML with template"
   ],
   "metadata": {
    "collapsed": false
   },
   "id": "58f5027ed5f83fd5"
  },
  {
   "cell_type": "code",
   "outputs": [],
   "source": [
    "# 1. Create a template file as report_template.html\n",
    "from jinja2 import Environment, FileSystemLoader\n",
    "\n",
    "# 2. Create a template Environment\n",
    "env = Environment(loader=FileSystemLoader('templates'))\n",
    "\n",
    "# 3. Load the template from the Environment\n",
    "template = env.get_template('index.html')\n",
    "\n",
    "# 4. Render the template with variables\n",
    "html = template.render(title = \"Control Union Report\",\n",
    "message = {\n",
    "        \"greeting\": \"Hi Jane\",\n",
    "        \"content_1\": \"Your web redesign is finished and we're tracking results through this web analytics report. Early signs are good and everything seems to be on pace.\",\n",
    "        \"content_2\": \"We're also going to be launching a few new landing pages next month. These will be used for SEO and PPC purposes.\"\n",
    "},\n",
    "images = {\n",
    "        \"image1\": \"https://storage.googleapis.com/corpeng-pulse-assets/uploads/2022/11/2image5-1536x783.jpg\",\n",
    "        \"image2\": \"https://storage.googleapis.com/corpeng-pulse-assets/uploads/2022/11/2image2-1536x719.jpg\"\n",
    "},\n",
    "stats = {\n",
    "        \"sessions\": \"10,487\",\n",
    "        \"avg_session_duration\": \"00:00:26\",\n",
    "        \"new_sessions\": \"13.09%\",\n",
    "        \"bounce_rate\": \"35.00%\",\n",
    "        \"goal_completions\": \"3,145\",\n",
    "        \"pages_per_session\": \"3.49\"\n",
    "})\n",
    "\n"
   ],
   "metadata": {
    "collapsed": false,
    "ExecuteTime": {
     "end_time": "2024-10-04T05:57:35.312067Z",
     "start_time": "2024-10-04T05:57:35.295489Z"
    }
   },
   "id": "1306694ffea0494b",
   "execution_count": 14
  },
  {
   "cell_type": "code",
   "outputs": [],
   "source": [
    "# 5. Write the template to an HTML file\n",
    "with open('html_report_jinja.html', 'w') as f:\n",
    "    f.write(html)"
   ],
   "metadata": {
    "collapsed": false,
    "ExecuteTime": {
     "end_time": "2024-10-04T05:57:36.696277Z",
     "start_time": "2024-10-04T05:57:36.677927Z"
    }
   },
   "id": "b8af822e8742870a",
   "execution_count": 15
  },
  {
   "cell_type": "code",
   "outputs": [],
   "source": [
    "import pdfkit\n",
    "config = pdfkit.configuration(wkhtmltopdf=\"C:/Program Files/wkhtmltopdf/bin/wkhtmltopdf.exe\")\n",
    "options = {\n",
    "        'page-size': 'A4',\n",
    "        'orientation': 'Landscape',\n",
    "        'enable-local-file-access': None,  # Allow local file access\n",
    "        'margin-top': '10mm',\n",
    "        'margin-right': '10mm',\n",
    "        'margin-bottom': '10mm',\n",
    "        'margin-left': '10mm'\n",
    "}"
   ],
   "metadata": {
    "collapsed": false,
    "ExecuteTime": {
     "end_time": "2024-10-04T05:57:38.299973Z",
     "start_time": "2024-10-04T05:57:38.287755Z"
    }
   },
   "id": "4d870ef88c099842",
   "execution_count": 16
  },
  {
   "cell_type": "code",
   "outputs": [],
   "source": [
    "# 5. Generate PDF using pdfkit and external CSS\n",
    "try:\n",
    "        pdfkit.from_file('html_report_jinja.html', 'pdfkit_report.pdf', css='templates/index.css', configuration=config)\n",
    "except Exception as e:\n",
    "        print(e)"
   ],
   "metadata": {
    "collapsed": false,
    "ExecuteTime": {
     "end_time": "2024-10-04T05:57:42.892277Z",
     "start_time": "2024-10-04T05:57:39.793170Z"
    }
   },
   "id": "aef2f211cfa7b729",
   "execution_count": 17
  },
  {
   "cell_type": "markdown",
   "source": [
    "# HTML to pdf"
   ],
   "metadata": {
    "collapsed": false
   },
   "id": "4f0b619d35854c7f"
  },
  {
   "cell_type": "code",
   "outputs": [],
   "source": [
    "from weasyprint import HTML, CSS\n",
    "# css = CSS(string='''\n",
    "#     @page {size: A4; margin: 1cm;} \n",
    "#     th, td {border: 1px solid black;}\n",
    "#     ''')\n",
    "css = CSS('templates/index.css')\n",
    "HTML('html_report_jinja.html').write_pdf('weasyprint_pdf_report.pdf', stylesheets=[css])"
   ],
   "metadata": {
    "collapsed": false
   },
   "id": "ab1c2de01ee153e7",
   "execution_count": null
  },
  {
   "cell_type": "code",
   "outputs": [],
   "source": [],
   "metadata": {
    "collapsed": false
   },
   "id": "234ae126e7bf32a3"
  }
 ],
 "metadata": {
  "kernelspec": {
   "display_name": "Python 3",
   "language": "python",
   "name": "python3"
  },
  "language_info": {
   "codemirror_mode": {
    "name": "ipython",
    "version": 2
   },
   "file_extension": ".py",
   "mimetype": "text/x-python",
   "name": "python",
   "nbconvert_exporter": "python",
   "pygments_lexer": "ipython2",
   "version": "2.7.6"
  }
 },
 "nbformat": 4,
 "nbformat_minor": 5
}
