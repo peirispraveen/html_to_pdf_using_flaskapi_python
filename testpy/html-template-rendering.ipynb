{
 "cells": [
  {
   "cell_type": "markdown",
   "source": [
    "# HTML"
   ],
   "metadata": {
    "collapsed": false
   },
   "id": "d4399fa687cd334b"
  },
  {
   "cell_type": "code",
   "execution_count": 1,
   "id": "initial_id",
   "metadata": {
    "collapsed": true,
    "ExecuteTime": {
     "end_time": "2024-10-04T04:45:23.777379Z",
     "start_time": "2024-10-04T04:45:23.762295Z"
    }
   },
   "outputs": [],
   "source": [
    "# 1. Set up multiple variables to store the titles, text within the report\n",
    "title = \"Control Union Report\"\n",
    "message = {\n",
    "        \"greeting\": \"Hi Jane\",\n",
    "        \"content_1\": \"Your web redesign is finished and we're tracking results through this web analytics report. Early signs are good and everything seems to be on pace.\",\n",
    "        \"content_2\": \"We're also going to be launching a few new landing pages next month. These will be used for SEO and PPC purposes.\"\n",
    "}\n",
    "images = {\n",
    "        \"image1\": \"https://storage.googleapis.com/corpeng-pulse-assets/uploads/2022/11/2image5-1536x783.jpg\",\n",
    "        \"image2\": \"https://storage.googleapis.com/corpeng-pulse-assets/uploads/2022/11/2image2-1536x719.jpg\"\n",
    "}\n",
    "stats = {\n",
    "        \"sessions\": \"10,487\",\n",
    "        \"avg_session_duration\": \"00:00:26\",\n",
    "        \"new_sessions\": \"13.09%\",\n",
    "        \"bounce_rate\": \"35.00%\",\n",
    "        \"goal_completions\": \"3,145\",\n",
    "        \"pages_per_session\": \"3.49\"\n",
    "}\n",
    "\n",
    "\n",
    "# 2. Combine them together using a long f-string\n",
    "html = f'''\n",
    "    <html>\n",
    "        <head>\n",
    "            <title>{{ title }}</title>\n",
    "        </head>\n",
    "        <body>\n",
    "            <div class=\"container\">\n",
    "                <header>\n",
    "                    <h1>{{ title }}</h1>\n",
    "                </header>\n",
    "        \n",
    "                <section class=\"message\">\n",
    "                    <p>{{ message.greeting }}</p>\n",
    "                    <p>{{ message.content_1 }}</p>\n",
    "                </section>\n",
    "        \n",
    "                <section class=\"images\">\n",
    "                    <div class=\"image-box\">\n",
    "                        <img src=\"{{ images.image1 }}\" alt=\"Image 1 Placeholder\">\n",
    "                    </div>\n",
    "                    <div class=\"image-box\">\n",
    "                        <img src=\"{{ images.image2 }}\" alt=\"Image 2 Placeholder\">\n",
    "                    </div>\n",
    "                </section>\n",
    "        \n",
    "                <section class=\"stats\">\n",
    "                    <div class=\"stat-box\">\n",
    "                        <p>{{ stats.sessions }}</p>\n",
    "                        <span>Sessions</span>\n",
    "                    </div>\n",
    "                    <div class=\"stat-box\">\n",
    "                        <p>{{ stats.avg_session_duration }}</p>\n",
    "                        <span>Avg. Session Duration</span>\n",
    "                    </div>\n",
    "                    <div class=\"stat-box\">\n",
    "                        <p>{{ stats.new_sessions }}</p>\n",
    "                        <span>% New Sessions</span>\n",
    "                    </div>\n",
    "                    <div class=\"stat-box\">\n",
    "                        <p>{{ stats.bounce_rate }}</p>\n",
    "                        <span>Bounce Rate</span>\n",
    "                    </div>\n",
    "                    <div class=\"stat-box\">\n",
    "                        <p>{{ stats.goal_completions }}</p>\n",
    "                        <span>Goal Completions</span>\n",
    "                    </div>\n",
    "                    <div class=\"stat-box\">\n",
    "                        <p>{{ stats.pages_per_session }}</p>\n",
    "                        <span>Pages/Session</span>\n",
    "                    </div>\n",
    "                </section>\n",
    "            </div>\n",
    "        </body>\n",
    "    </html>\n",
    "    '''"
   ]
  },
  {
   "cell_type": "code",
   "outputs": [],
   "source": [
    "# 3. Write the html string as an HTML file\n",
    "with open('html_report.html', 'w') as f:\n",
    "    f.write(html)"
   ],
   "metadata": {
    "collapsed": false,
    "ExecuteTime": {
     "end_time": "2024-10-04T04:45:25.869739Z",
     "start_time": "2024-10-04T04:45:25.860181Z"
    }
   },
   "id": "20812aece5e97b57",
   "execution_count": 2
  },
  {
   "cell_type": "markdown",
   "source": [
    "# HTML with template"
   ],
   "metadata": {
    "collapsed": false
   },
   "id": "58f5027ed5f83fd5"
  },
  {
   "cell_type": "code",
   "outputs": [],
   "source": [
    "# 1. Create a template file as report_template.html\n",
    "from jinja2 import Environment, FileSystemLoader\n",
    "\n",
    "# 2. Create a template Environment\n",
    "env = Environment(loader=FileSystemLoader('templates'))\n",
    "\n",
    "# 3. Load the template from the Environment\n",
    "template = env.get_template('index.html')\n",
    "\n",
    "# 4. Render the template with variables\n",
    "html = template.render(title = \"Control Union Report\",\n",
    "message = {\n",
    "        \"greeting\": \"Hi Jane\",\n",
    "        \"content_1\": \"Your web redesign is finished and we're tracking results through this web analytics report. Early signs are good and everything seems to be on pace.\",\n",
    "        \"content_2\": \"We're also going to be launching a few new landing pages next month. These will be used for SEO and PPC purposes.\"\n",
    "},\n",
    "images = {\n",
    "        \"image1\": \"https://storage.googleapis.com/corpeng-pulse-assets/uploads/2022/11/2image5-1536x783.jpg\",\n",
    "        \"image2\": \"https://storage.googleapis.com/corpeng-pulse-assets/uploads/2022/11/2image2-1536x719.jpg\"\n",
    "},\n",
    "stats = {\n",
    "        \"sessions\": \"10,487\",\n",
    "        \"avg_session_duration\": \"00:00:26\",\n",
    "        \"new_sessions\": \"13.09%\",\n",
    "        \"bounce_rate\": \"35.00%\",\n",
    "        \"goal_completions\": \"3,145\",\n",
    "        \"pages_per_session\": \"3.49\"\n",
    "})\n",
    "\n"
   ],
   "metadata": {
    "collapsed": false,
    "ExecuteTime": {
     "end_time": "2024-10-04T04:53:09.923834Z",
     "start_time": "2024-10-04T04:53:09.900756Z"
    }
   },
   "id": "1306694ffea0494b",
   "execution_count": 7
  },
  {
   "cell_type": "code",
   "outputs": [],
   "source": [
    "# 5. Write the template to an HTML file\n",
    "with open('html_report_jinja.html', 'w') as f:\n",
    "    f.write(html)"
   ],
   "metadata": {
    "collapsed": false,
    "ExecuteTime": {
     "end_time": "2024-10-04T04:53:17.701456Z",
     "start_time": "2024-10-04T04:53:17.693903Z"
    }
   },
   "id": "b8af822e8742870a",
   "execution_count": 8
  },
  {
   "cell_type": "code",
   "outputs": [
    {
     "data": {
      "text/plain": "True"
     },
     "execution_count": 12,
     "metadata": {},
     "output_type": "execute_result"
    }
   ],
   "source": [
    "import pdfkit\n",
    "config = pdfkit.configuration(wkhtmltopdf=\"C:/Program Files/wkhtmltopdf/bin/wkhtmltopdf.exe\")\n",
    "options = {\n",
    "        'page-size': 'A4',\n",
    "        'orientation': 'Landscape',\n",
    "        'enable-local-file-access': None,  # Allow local file access\n",
    "        'margin-top': '10mm',\n",
    "        'margin-right': '10mm',\n",
    "        'margin-bottom': '10mm',\n",
    "        'margin-left': '10mm'\n",
    "}"
   ],
   "metadata": {
    "collapsed": false,
    "ExecuteTime": {
     "end_time": "2024-10-04T05:03:44.621154Z",
     "start_time": "2024-10-04T05:03:41.604926Z"
    }
   },
   "id": "4d870ef88c099842",
   "execution_count": 12
  },
  {
   "cell_type": "code",
   "outputs": [],
   "source": [
    "# 5. Generate PDF using pdfkit and external CSS\n",
    "try:\n",
    "        pdfkit.from_file('html_report_jinja.html', 'pdfkit_report.pdf', css='templates/index.css', configuration=config)\n",
    "except Exception as e:\n",
    "        print(e)"
   ],
   "metadata": {
    "collapsed": false,
    "ExecuteTime": {
     "end_time": "2024-10-04T05:07:16.040551Z",
     "start_time": "2024-10-04T05:07:13.004860Z"
    }
   },
   "id": "aef2f211cfa7b729",
   "execution_count": 13
  },
  {
   "cell_type": "markdown",
   "source": [
    "# HTML to pdf"
   ],
   "metadata": {
    "collapsed": false
   },
   "id": "4f0b619d35854c7f"
  },
  {
   "cell_type": "code",
   "outputs": [
    {
     "name": "stdout",
     "output_type": "stream",
     "text": [
      "\n",
      "-----\n",
      "\n",
      "WeasyPrint could not import some external libraries. Please carefully follow the installation steps before reporting an issue:\n",
      "https://doc.courtbouillon.org/weasyprint/stable/first_steps.html#installation\n",
      "https://doc.courtbouillon.org/weasyprint/stable/first_steps.html#troubleshooting \n",
      "\n",
      "-----\n"
     ]
    },
    {
     "ename": "OSError",
     "evalue": "cannot load library 'gobject-2.0-0': error 0x7e.  Additionally, ctypes.util.find_library() did not manage to locate a library called 'gobject-2.0-0'",
     "output_type": "error",
     "traceback": [
      "\u001B[1;31m---------------------------------------------------------------------------\u001B[0m",
      "\u001B[1;31mOSError\u001B[0m                                   Traceback (most recent call last)",
      "Cell \u001B[1;32mIn[10], line 1\u001B[0m\n\u001B[1;32m----> 1\u001B[0m \u001B[38;5;28;01mfrom\u001B[39;00m \u001B[38;5;21;01mweasyprint\u001B[39;00m \u001B[38;5;28;01mimport\u001B[39;00m HTML, CSS\n\u001B[0;32m      2\u001B[0m \u001B[38;5;66;03m# css = CSS(string='''\u001B[39;00m\n\u001B[0;32m      3\u001B[0m \u001B[38;5;66;03m#     @page {size: A4; margin: 1cm;} \u001B[39;00m\n\u001B[0;32m      4\u001B[0m \u001B[38;5;66;03m#     th, td {border: 1px solid black;}\u001B[39;00m\n\u001B[0;32m      5\u001B[0m \u001B[38;5;66;03m#     ''')\u001B[39;00m\n\u001B[0;32m      6\u001B[0m css \u001B[38;5;241m=\u001B[39m CSS(\u001B[38;5;124m'\u001B[39m\u001B[38;5;124mtemplates/index.css\u001B[39m\u001B[38;5;124m'\u001B[39m)\n",
      "File \u001B[1;32mD:\\EngenuityAI\\TestProjects\\FlaskPDFGenTest\\.venv\\lib\\site-packages\\weasyprint\\__init__.py:419\u001B[0m\n\u001B[0;32m    416\u001B[0m         \u001B[38;5;28;01myield\u001B[39;00m \u001B[38;5;124m'\u001B[39m\u001B[38;5;124mstring\u001B[39m\u001B[38;5;124m'\u001B[39m, string, base_url, \u001B[38;5;28;01mNone\u001B[39;00m\n\u001B[0;32m    418\u001B[0m \u001B[38;5;66;03m# Work around circular imports.\u001B[39;00m\n\u001B[1;32m--> 419\u001B[0m \u001B[38;5;28;01mfrom\u001B[39;00m \u001B[38;5;21;01m.\u001B[39;00m\u001B[38;5;21;01mcss\u001B[39;00m \u001B[38;5;28;01mimport\u001B[39;00m preprocess_stylesheet  \u001B[38;5;66;03m# noqa: I001, E402\u001B[39;00m\n\u001B[0;32m    420\u001B[0m \u001B[38;5;28;01mfrom\u001B[39;00m \u001B[38;5;21;01m.\u001B[39;00m\u001B[38;5;21;01mhtml\u001B[39;00m \u001B[38;5;28;01mimport\u001B[39;00m (  \u001B[38;5;66;03m# noqa: E402\u001B[39;00m\n\u001B[0;32m    421\u001B[0m     HTML5_UA_COUNTER_STYLE, HTML5_UA_STYLESHEET, HTML5_UA_FORM_STYLESHEET,\n\u001B[0;32m    422\u001B[0m     HTML5_PH_STYLESHEET)\n\u001B[0;32m    423\u001B[0m \u001B[38;5;28;01mfrom\u001B[39;00m \u001B[38;5;21;01m.\u001B[39;00m\u001B[38;5;21;01mdocument\u001B[39;00m \u001B[38;5;28;01mimport\u001B[39;00m Document, Page  \u001B[38;5;66;03m# noqa: E402\u001B[39;00m\n",
      "File \u001B[1;32mD:\\EngenuityAI\\TestProjects\\FlaskPDFGenTest\\.venv\\lib\\site-packages\\weasyprint\\css\\__init__.py:28\u001B[0m\n\u001B[0;32m     26\u001B[0m \u001B[38;5;28;01mfrom\u001B[39;00m \u001B[38;5;21;01m.\u001B[39;00m\u001B[38;5;21;01m.\u001B[39;00m\u001B[38;5;21;01murls\u001B[39;00m \u001B[38;5;28;01mimport\u001B[39;00m URLFetchingError, get_url_attribute, url_join\n\u001B[0;32m     27\u001B[0m \u001B[38;5;28;01mfrom\u001B[39;00m \u001B[38;5;21;01m.\u001B[39;00m \u001B[38;5;28;01mimport\u001B[39;00m counters, media_queries\n\u001B[1;32m---> 28\u001B[0m \u001B[38;5;28;01mfrom\u001B[39;00m \u001B[38;5;21;01m.\u001B[39;00m\u001B[38;5;21;01mcomputed_values\u001B[39;00m \u001B[38;5;28;01mimport\u001B[39;00m COMPUTER_FUNCTIONS\n\u001B[0;32m     29\u001B[0m \u001B[38;5;28;01mfrom\u001B[39;00m \u001B[38;5;21;01m.\u001B[39;00m\u001B[38;5;21;01mproperties\u001B[39;00m \u001B[38;5;28;01mimport\u001B[39;00m INHERITED, INITIAL_NOT_COMPUTED, INITIAL_VALUES, ZERO_PIXELS\n\u001B[0;32m     30\u001B[0m \u001B[38;5;28;01mfrom\u001B[39;00m \u001B[38;5;21;01m.\u001B[39;00m\u001B[38;5;21;01mvalidation\u001B[39;00m \u001B[38;5;28;01mimport\u001B[39;00m preprocess_declarations\n",
      "File \u001B[1;32mD:\\EngenuityAI\\TestProjects\\FlaskPDFGenTest\\.venv\\lib\\site-packages\\weasyprint\\css\\computed_values.py:9\u001B[0m\n\u001B[0;32m      6\u001B[0m \u001B[38;5;28;01mfrom\u001B[39;00m \u001B[38;5;21;01mtinycss2\u001B[39;00m\u001B[38;5;21;01m.\u001B[39;00m\u001B[38;5;21;01mcolor3\u001B[39;00m \u001B[38;5;28;01mimport\u001B[39;00m parse_color\n\u001B[0;32m      8\u001B[0m \u001B[38;5;28;01mfrom\u001B[39;00m \u001B[38;5;21;01m.\u001B[39;00m\u001B[38;5;21;01m.\u001B[39;00m\u001B[38;5;21;01mlogger\u001B[39;00m \u001B[38;5;28;01mimport\u001B[39;00m LOGGER\n\u001B[1;32m----> 9\u001B[0m \u001B[38;5;28;01mfrom\u001B[39;00m \u001B[38;5;21;01m.\u001B[39;00m\u001B[38;5;21;01m.\u001B[39;00m\u001B[38;5;21;01mtext\u001B[39;00m\u001B[38;5;21;01m.\u001B[39;00m\u001B[38;5;21;01mffi\u001B[39;00m \u001B[38;5;28;01mimport\u001B[39;00m ffi, pango, units_to_double\n\u001B[0;32m     10\u001B[0m \u001B[38;5;28;01mfrom\u001B[39;00m \u001B[38;5;21;01m.\u001B[39;00m\u001B[38;5;21;01m.\u001B[39;00m\u001B[38;5;21;01mtext\u001B[39;00m\u001B[38;5;21;01m.\u001B[39;00m\u001B[38;5;21;01mline_break\u001B[39;00m \u001B[38;5;28;01mimport\u001B[39;00m Layout, first_line_metrics\n\u001B[0;32m     11\u001B[0m \u001B[38;5;28;01mfrom\u001B[39;00m \u001B[38;5;21;01m.\u001B[39;00m\u001B[38;5;21;01m.\u001B[39;00m\u001B[38;5;21;01murls\u001B[39;00m \u001B[38;5;28;01mimport\u001B[39;00m get_link_attribute\n",
      "File \u001B[1;32mD:\\EngenuityAI\\TestProjects\\FlaskPDFGenTest\\.venv\\lib\\site-packages\\weasyprint\\text\\ffi.py:431\u001B[0m\n\u001B[0;32m    428\u001B[0m         \u001B[38;5;28;01mwith\u001B[39;00m suppress((\u001B[38;5;167;01mOSError\u001B[39;00m, \u001B[38;5;167;01mFileNotFoundError\u001B[39;00m)):\n\u001B[0;32m    429\u001B[0m             os\u001B[38;5;241m.\u001B[39madd_dll_directory(dll_directory)\n\u001B[1;32m--> 431\u001B[0m gobject \u001B[38;5;241m=\u001B[39m \u001B[43m_dlopen\u001B[49m\u001B[43m(\u001B[49m\n\u001B[0;32m    432\u001B[0m \u001B[43m    \u001B[49m\u001B[43mffi\u001B[49m\u001B[43m,\u001B[49m\u001B[43m \u001B[49m\u001B[38;5;124;43m'\u001B[39;49m\u001B[38;5;124;43mgobject-2.0-0\u001B[39;49m\u001B[38;5;124;43m'\u001B[39;49m\u001B[43m,\u001B[49m\u001B[43m \u001B[49m\u001B[38;5;124;43m'\u001B[39;49m\u001B[38;5;124;43mgobject-2.0\u001B[39;49m\u001B[38;5;124;43m'\u001B[39;49m\u001B[43m,\u001B[49m\u001B[43m \u001B[49m\u001B[38;5;124;43m'\u001B[39;49m\u001B[38;5;124;43mlibgobject-2.0-0\u001B[39;49m\u001B[38;5;124;43m'\u001B[39;49m\u001B[43m,\u001B[49m\n\u001B[0;32m    433\u001B[0m \u001B[43m    \u001B[49m\u001B[38;5;124;43m'\u001B[39;49m\u001B[38;5;124;43mlibgobject-2.0.so.0\u001B[39;49m\u001B[38;5;124;43m'\u001B[39;49m\u001B[43m,\u001B[49m\u001B[43m \u001B[49m\u001B[38;5;124;43m'\u001B[39;49m\u001B[38;5;124;43mlibgobject-2.0.dylib\u001B[39;49m\u001B[38;5;124;43m'\u001B[39;49m\u001B[43m,\u001B[49m\u001B[43m \u001B[49m\u001B[38;5;124;43m'\u001B[39;49m\u001B[38;5;124;43mlibgobject-2.0-0.dll\u001B[39;49m\u001B[38;5;124;43m'\u001B[39;49m\u001B[43m)\u001B[49m\n\u001B[0;32m    434\u001B[0m pango \u001B[38;5;241m=\u001B[39m _dlopen(\n\u001B[0;32m    435\u001B[0m     ffi, \u001B[38;5;124m'\u001B[39m\u001B[38;5;124mpango-1.0-0\u001B[39m\u001B[38;5;124m'\u001B[39m, \u001B[38;5;124m'\u001B[39m\u001B[38;5;124mpango-1.0\u001B[39m\u001B[38;5;124m'\u001B[39m, \u001B[38;5;124m'\u001B[39m\u001B[38;5;124mlibpango-1.0-0\u001B[39m\u001B[38;5;124m'\u001B[39m, \u001B[38;5;124m'\u001B[39m\u001B[38;5;124mlibpango-1.0.so.0\u001B[39m\u001B[38;5;124m'\u001B[39m,\n\u001B[0;32m    436\u001B[0m     \u001B[38;5;124m'\u001B[39m\u001B[38;5;124mlibpango-1.0.dylib\u001B[39m\u001B[38;5;124m'\u001B[39m, \u001B[38;5;124m'\u001B[39m\u001B[38;5;124mlibpango-1.0-0.dll\u001B[39m\u001B[38;5;124m'\u001B[39m)\n\u001B[0;32m    437\u001B[0m harfbuzz \u001B[38;5;241m=\u001B[39m _dlopen(\n\u001B[0;32m    438\u001B[0m     ffi, \u001B[38;5;124m'\u001B[39m\u001B[38;5;124mharfbuzz\u001B[39m\u001B[38;5;124m'\u001B[39m, \u001B[38;5;124m'\u001B[39m\u001B[38;5;124mharfbuzz-0.0\u001B[39m\u001B[38;5;124m'\u001B[39m, \u001B[38;5;124m'\u001B[39m\u001B[38;5;124mlibharfbuzz-0\u001B[39m\u001B[38;5;124m'\u001B[39m,\n\u001B[0;32m    439\u001B[0m     \u001B[38;5;124m'\u001B[39m\u001B[38;5;124mlibharfbuzz.so.0\u001B[39m\u001B[38;5;124m'\u001B[39m, \u001B[38;5;124m'\u001B[39m\u001B[38;5;124mlibharfbuzz.so.0\u001B[39m\u001B[38;5;124m'\u001B[39m, \u001B[38;5;124m'\u001B[39m\u001B[38;5;124mlibharfbuzz.0.dylib\u001B[39m\u001B[38;5;124m'\u001B[39m,\n\u001B[0;32m    440\u001B[0m     \u001B[38;5;124m'\u001B[39m\u001B[38;5;124mlibharfbuzz-0.dll\u001B[39m\u001B[38;5;124m'\u001B[39m)\n",
      "File \u001B[1;32mD:\\EngenuityAI\\TestProjects\\FlaskPDFGenTest\\.venv\\lib\\site-packages\\weasyprint\\text\\ffi.py:420\u001B[0m, in \u001B[0;36m_dlopen\u001B[1;34m(ffi, *names)\u001B[0m\n\u001B[0;32m    410\u001B[0m \u001B[38;5;66;03m# Re-raise the exception.\u001B[39;00m\n\u001B[0;32m    411\u001B[0m \u001B[38;5;28mprint\u001B[39m(\n\u001B[0;32m    412\u001B[0m     \u001B[38;5;124m'\u001B[39m\u001B[38;5;130;01m\\n\u001B[39;00m\u001B[38;5;124m-----\u001B[39m\u001B[38;5;130;01m\\n\u001B[39;00m\u001B[38;5;130;01m\\n\u001B[39;00m\u001B[38;5;124m'\u001B[39m\n\u001B[0;32m    413\u001B[0m     \u001B[38;5;124m'\u001B[39m\u001B[38;5;124mWeasyPrint could not import some external libraries. Please \u001B[39m\u001B[38;5;124m'\u001B[39m\n\u001B[1;32m   (...)\u001B[0m\n\u001B[0;32m    418\u001B[0m     \u001B[38;5;124m'\u001B[39m\u001B[38;5;124mfirst_steps.html#troubleshooting\u001B[39m\u001B[38;5;124m'\u001B[39m,\n\u001B[0;32m    419\u001B[0m     \u001B[38;5;124m'\u001B[39m\u001B[38;5;130;01m\\n\u001B[39;00m\u001B[38;5;130;01m\\n\u001B[39;00m\u001B[38;5;124m-----\u001B[39m\u001B[38;5;130;01m\\n\u001B[39;00m\u001B[38;5;124m'\u001B[39m)  \u001B[38;5;66;03m# pragma: no cover\u001B[39;00m\n\u001B[1;32m--> 420\u001B[0m \u001B[38;5;28;01mreturn\u001B[39;00m \u001B[43mffi\u001B[49m\u001B[38;5;241;43m.\u001B[39;49m\u001B[43mdlopen\u001B[49m\u001B[43m(\u001B[49m\u001B[43mnames\u001B[49m\u001B[43m[\u001B[49m\u001B[38;5;241;43m0\u001B[39;49m\u001B[43m]\u001B[49m\u001B[43m)\u001B[49m\n",
      "File \u001B[1;32mD:\\EngenuityAI\\TestProjects\\FlaskPDFGenTest\\.venv\\lib\\site-packages\\cffi\\api.py:150\u001B[0m, in \u001B[0;36mFFI.dlopen\u001B[1;34m(self, name, flags)\u001B[0m\n\u001B[0;32m    147\u001B[0m     \u001B[38;5;28;01mraise\u001B[39;00m \u001B[38;5;167;01mTypeError\u001B[39;00m(\u001B[38;5;124m\"\u001B[39m\u001B[38;5;124mdlopen(name): name must be a file name, None, \u001B[39m\u001B[38;5;124m\"\u001B[39m\n\u001B[0;32m    148\u001B[0m                     \u001B[38;5;124m\"\u001B[39m\u001B[38;5;124mor an already-opened \u001B[39m\u001B[38;5;124m'\u001B[39m\u001B[38;5;124mvoid *\u001B[39m\u001B[38;5;124m'\u001B[39m\u001B[38;5;124m handle\u001B[39m\u001B[38;5;124m\"\u001B[39m)\n\u001B[0;32m    149\u001B[0m \u001B[38;5;28;01mwith\u001B[39;00m \u001B[38;5;28mself\u001B[39m\u001B[38;5;241m.\u001B[39m_lock:\n\u001B[1;32m--> 150\u001B[0m     lib, function_cache \u001B[38;5;241m=\u001B[39m \u001B[43m_make_ffi_library\u001B[49m\u001B[43m(\u001B[49m\u001B[38;5;28;43mself\u001B[39;49m\u001B[43m,\u001B[49m\u001B[43m \u001B[49m\u001B[43mname\u001B[49m\u001B[43m,\u001B[49m\u001B[43m \u001B[49m\u001B[43mflags\u001B[49m\u001B[43m)\u001B[49m\n\u001B[0;32m    151\u001B[0m     \u001B[38;5;28mself\u001B[39m\u001B[38;5;241m.\u001B[39m_function_caches\u001B[38;5;241m.\u001B[39mappend(function_cache)\n\u001B[0;32m    152\u001B[0m     \u001B[38;5;28mself\u001B[39m\u001B[38;5;241m.\u001B[39m_libraries\u001B[38;5;241m.\u001B[39mappend(lib)\n",
      "File \u001B[1;32mD:\\EngenuityAI\\TestProjects\\FlaskPDFGenTest\\.venv\\lib\\site-packages\\cffi\\api.py:834\u001B[0m, in \u001B[0;36m_make_ffi_library\u001B[1;34m(ffi, libname, flags)\u001B[0m\n\u001B[0;32m    832\u001B[0m \u001B[38;5;28;01mdef\u001B[39;00m \u001B[38;5;21m_make_ffi_library\u001B[39m(ffi, libname, flags):\n\u001B[0;32m    833\u001B[0m     backend \u001B[38;5;241m=\u001B[39m ffi\u001B[38;5;241m.\u001B[39m_backend\n\u001B[1;32m--> 834\u001B[0m     backendlib \u001B[38;5;241m=\u001B[39m \u001B[43m_load_backend_lib\u001B[49m\u001B[43m(\u001B[49m\u001B[43mbackend\u001B[49m\u001B[43m,\u001B[49m\u001B[43m \u001B[49m\u001B[43mlibname\u001B[49m\u001B[43m,\u001B[49m\u001B[43m \u001B[49m\u001B[43mflags\u001B[49m\u001B[43m)\u001B[49m\n\u001B[0;32m    835\u001B[0m     \u001B[38;5;66;03m#\u001B[39;00m\n\u001B[0;32m    836\u001B[0m     \u001B[38;5;28;01mdef\u001B[39;00m \u001B[38;5;21maccessor_function\u001B[39m(name):\n",
      "File \u001B[1;32mD:\\EngenuityAI\\TestProjects\\FlaskPDFGenTest\\.venv\\lib\\site-packages\\cffi\\api.py:829\u001B[0m, in \u001B[0;36m_load_backend_lib\u001B[1;34m(backend, name, flags)\u001B[0m\n\u001B[0;32m    827\u001B[0m     \u001B[38;5;28;01mif\u001B[39;00m first_error \u001B[38;5;129;01mis\u001B[39;00m \u001B[38;5;129;01mnot\u001B[39;00m \u001B[38;5;28;01mNone\u001B[39;00m:\n\u001B[0;32m    828\u001B[0m         msg \u001B[38;5;241m=\u001B[39m \u001B[38;5;124m\"\u001B[39m\u001B[38;5;132;01m%s\u001B[39;00m\u001B[38;5;124m.  Additionally, \u001B[39m\u001B[38;5;132;01m%s\u001B[39;00m\u001B[38;5;124m\"\u001B[39m \u001B[38;5;241m%\u001B[39m (first_error, msg)\n\u001B[1;32m--> 829\u001B[0m     \u001B[38;5;28;01mraise\u001B[39;00m \u001B[38;5;167;01mOSError\u001B[39;00m(msg)\n\u001B[0;32m    830\u001B[0m \u001B[38;5;28;01mreturn\u001B[39;00m backend\u001B[38;5;241m.\u001B[39mload_library(path, flags)\n",
      "\u001B[1;31mOSError\u001B[0m: cannot load library 'gobject-2.0-0': error 0x7e.  Additionally, ctypes.util.find_library() did not manage to locate a library called 'gobject-2.0-0'"
     ]
    }
   ],
   "source": [
    "from weasyprint import HTML, CSS\n",
    "# css = CSS(string='''\n",
    "#     @page {size: A4; margin: 1cm;} \n",
    "#     th, td {border: 1px solid black;}\n",
    "#     ''')\n",
    "css = CSS('templates/index.css')\n",
    "HTML('html_report_jinja.html').write_pdf('weasyprint_pdf_report.pdf', stylesheets=[css])"
   ],
   "metadata": {
    "collapsed": false,
    "ExecuteTime": {
     "end_time": "2024-10-04T04:57:51.118577Z",
     "start_time": "2024-10-04T04:57:50.808641Z"
    }
   },
   "id": "ab1c2de01ee153e7",
   "execution_count": 10
  },
  {
   "cell_type": "code",
   "outputs": [],
   "source": [],
   "metadata": {
    "collapsed": false
   },
   "id": "234ae126e7bf32a3"
  }
 ],
 "metadata": {
  "kernelspec": {
   "display_name": "Python 3",
   "language": "python",
   "name": "python3"
  },
  "language_info": {
   "codemirror_mode": {
    "name": "ipython",
    "version": 2
   },
   "file_extension": ".py",
   "mimetype": "text/x-python",
   "name": "python",
   "nbconvert_exporter": "python",
   "pygments_lexer": "ipython2",
   "version": "2.7.6"
  }
 },
 "nbformat": 4,
 "nbformat_minor": 5
}
